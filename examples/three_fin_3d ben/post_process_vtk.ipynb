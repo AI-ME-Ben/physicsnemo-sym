{
 "cells": [
  {
   "cell_type": "code",
   "execution_count": null,
   "id": "ecb5a2cf",
   "metadata": {
    "vscode": {
     "languageId": "plaintext"
    }
   },
   "outputs": [],
   "source": [
    "import torch\n",
    "import numpy as np\n",
    "from omegaconf import OmegaConf\n",
    "\n",
    "from physicsnemo.sym.models.fully_connected import FullyConnectedArch\n",
    "from physicsnemo.sym.key import Key\n",
    "from physicsnemo.sym.utils.io.vtk import var_to_polyvtk,grid_to_vtk\n",
    "\n",
    "from three_fin_geometry import ThreeFin\n",
    "\n",
    "# 1. 載入 config\n",
    "cfg = OmegaConf.load(\"conf/conf_thermal.yaml\")\n",
    "cfg.run_mode = \"eval\"\n",
    "\n",
    "# 2. 建立 input keys\n",
    "input_keys = [\n",
    "    Key(\"x\"), Key(\"y\"), Key(\"z\"),\n",
    "    Key(\"fin_height_s\"),\n",
    "    Key(\"fin_length_s\"),\n",
    "    Key(\"fin_thickness_s\"),\n",
    "]\n",
    "\n",
    "# 3. 建立三個網路架構\n",
    "flow_net = FullyConnectedArch(\n",
    "    input_keys=input_keys, output_keys=[Key(\"u\"), Key(\"v\"), Key(\"w\"), Key(\"p\")]\n",
    ")\n",
    "thermal_f_net = FullyConnectedArch(input_keys=input_keys, output_keys=[Key(\"theta_f\")])\n",
    "thermal_s_net = FullyConnectedArch(input_keys=input_keys, output_keys=[Key(\"theta_s\")])\n",
    "\n",
    "# 4. 載入模型權重（指定路徑）\n",
    "base_path = \"/workspace/physicsnemo-sym/examples/three_fin_3d_0731_inf/outputs/three_fin_thermal/\"\n",
    "\n",
    "flow_net.load_state_dict(torch.load(base_path + \"flow_network.0.pth\", map_location=\"cpu\"))\n",
    "thermal_f_net.load_state_dict(torch.load(base_path + \"thermal_f_network.0.pth\", map_location=\"cpu\"))\n",
    "thermal_s_net.load_state_dict(torch.load(base_path + \"thermal_s_network.0.pth\", map_location=\"cpu\"))\n",
    "\n",
    "flow_net.eval()\n",
    "thermal_f_net.eval()\n",
    "thermal_s_net.eval()\n",
    "\n",
    "# 5. 建立幾何 sample 點（使用你的參數）\n",
    "geo = ThreeFin(parameterized=True)\n",
    "param = {\n",
    "    \"fin_height_s\": 0.030,\n",
    "    \"fin_length_s\": 0.195,\n",
    "    \"fin_thickness_s\": 0.0025,\n",
    "}"
   ]
  },
  {
   "cell_type": "code",
   "execution_count": null,
   "id": "11add087",
   "metadata": {
    "vscode": {
     "languageId": "plaintext"
    }
   },
   "outputs": [],
   "source": [
    "# 1️⃣ 流體區域推論\n",
    "invar_fluid = geo.geo.sample_interior(nr_points=100000, parameterization=param, quasirandom=True)\n",
    "invar_fluid_tensor = {k: torch.tensor(v, dtype=torch.float32) for k, v in invar_fluid.items()}\n",
    "with torch.no_grad():\n",
    "    pred_flow = flow_net(invar_fluid_tensor)\n",
    "    pred_theta_f = thermal_f_net(invar_fluid_tensor)\n",
    "\n",
    "pred_fluid_np = {\n",
    "    **invar_fluid,\n",
    "    **{k: v.cpu().numpy() for k, v in pred_flow.items()},\n",
    "    **{k: v.cpu().numpy() for k, v in pred_theta_f.items()},\n",
    "}\n",
    "\n",
    "# 加入 velocity 欄位，用於 streamline\n",
    "velocity = np.stack([\n",
    "    pred_fluid_np[\"u\"],\n",
    "    pred_fluid_np[\"v\"],\n",
    "    pred_fluid_np[\"w\"]\n",
    "], axis=-1)\n",
    "pred_fluid_np[\"velocity\"] = velocity\n",
    "\n",
    "# ➤ 輸出 fluid_only.vtp\n",
    "var_to_polyvtk(pred_fluid_np, \"fluid_only.vtp\")"
   ]
  },
  {
   "cell_type": "code",
   "execution_count": null,
   "id": "8553b807",
   "metadata": {
    "vscode": {
     "languageId": "plaintext"
    }
   },
   "outputs": [],
   "source": [
    "from physicsnemo.sym.utils.io.vtk import VTKFromFile\n",
    "from physicsnemo.sym.domain.inferencer  import PointVTKInferencer\n",
    "import torch\n",
    "from torch.utils.data import DataLoader, Dataset\n",
    "\n",
    "import numpy as np\n",
    "from sympy import Symbol, Eq, tanh, Or, And\n",
    "from omegaconf import DictConfig, OmegaConf\n",
    "import hydra\n",
    "from hydra.utils import to_absolute_path\n",
    "\n",
    "import physicsnemo.sym\n",
    "from physicsnemo.sym.hydra import to_absolute_path, instantiate_arch, PhysicsNeMoConfig\n",
    "from physicsnemo.sym.utils.io import csv_to_dict\n",
    "from physicsnemo.sym.solver import Solver\n",
    "from physicsnemo.sym.domain import Domain\n",
    "from physicsnemo.sym.geometry.primitives_3d import Box, Channel, Plane\n",
    "from physicsnemo.sym.models.fourier_net import FourierNetArch\n",
    "from physicsnemo.sym.domain.constraint import (\n",
    "    PointwiseBoundaryConstraint,\n",
    "    PointwiseInteriorConstraint,\n",
    "    IntegralBoundaryConstraint,\n",
    ")\n",
    "from physicsnemo.sym.domain.monitor import PointwiseMonitor\n",
    "from physicsnemo.sym.domain.inferencer import PointVTKInferencer\n",
    "from physicsnemo.sym.utils.io import (\n",
    "    VTKUniformGrid,\n",
    ")\n",
    "from physicsnemo.sym.key import Key\n",
    "from physicsnemo.sym.node import Node\n",
    "from physicsnemo.sym.eq.pdes.navier_stokes import NavierStokes\n",
    "from physicsnemo.sym.eq.pdes.turbulence_zero_eq import ZeroEquation\n",
    "from physicsnemo.sym.eq.pdes.basic import NormalDotVec, GradNormal\n",
    "from three_fin_geometry import ThreeFin"
   ]
  }
 ],
 "metadata": {
  "language_info": {
   "name": "python"
  }
 },
 "nbformat": 4,
 "nbformat_minor": 5
}
